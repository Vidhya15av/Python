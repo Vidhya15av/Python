{
 "cells": [
  {
   "cell_type": "code",
   "execution_count": null,
   "id": "5fd5c475",
   "metadata": {},
   "outputs": [],
   "source": [
    "1.Write a Python program that prints numbers from 1 to 5.\n",
    "Expected Output:\n",
    "1 2 3 4 5\n"
   ]
  },
  {
   "cell_type": "code",
   "execution_count": null,
   "id": "3c8bc472",
   "metadata": {},
   "outputs": [],
   "source": [
    "2.Write a Python program to print the first 5 even numbers. Expected Output:\n",
    "2 4 6 8 10\n",
    "\n"
   ]
  },
  {
   "cell_type": "code",
   "execution_count": null,
   "id": "5e7af211",
   "metadata": {},
   "outputs": [],
   "source": [
    "3.Write a Python program to print the sum of numbers from 1 to 10. \n",
    "Expected Output:55\n",
    "\n"
   ]
  },
  {
   "cell_type": "code",
   "execution_count": null,
   "id": "ac09aa1a",
   "metadata": {},
   "outputs": [],
   "source": [
    "4.Write a Python function to find the factorial of 5. Expected Output:\n",
    "120\n",
    "\n"
   ]
  },
  {
   "cell_type": "code",
   "execution_count": null,
   "id": "8ab9fc8a",
   "metadata": {},
   "outputs": [],
   "source": [
    "5.Write a Python program to check if a number is prime. Expected Output (for input 7):\n",
    "7 is a prime number\n",
    "\n"
   ]
  },
  {
   "cell_type": "code",
   "execution_count": 5,
   "id": "f2ab2fa9-1d10-436e-a002-24adc42104f5",
   "metadata": {},
   "outputs": [
    {
     "name": "stdout",
     "output_type": "stream",
     "text": [
      "1 2 3 4 5 "
     ]
    }
   ],
   "source": [
    "# 1.Write a Python program that prints numbers from 1 to 5.\n",
    "\n",
    "for i in range(1,6):\n",
    "    print(i,end=\" \")"
   ]
  },
  {
   "cell_type": "code",
   "execution_count": 40,
   "id": "10cb4991-3c3e-478b-85af-255152d81199",
   "metadata": {},
   "outputs": [
    {
     "name": "stdout",
     "output_type": "stream",
     "text": [
      "2 4 6 8 10 "
     ]
    }
   ],
   "source": [
    "# 2.Write a Python program to print the first 5 even numbers.\n",
    "\n",
    "for i in range(1,6):\n",
    "    print(i*2,end=\" \")"
   ]
  },
  {
   "cell_type": "code",
   "execution_count": 16,
   "id": "b47383db-51b5-4d3a-914e-d3d7c90d4523",
   "metadata": {},
   "outputs": [
    {
     "name": "stdout",
     "output_type": "stream",
     "text": [
      "55\n"
     ]
    }
   ],
   "source": [
    "# 3.Write a Python program to print the sum of numbers from 1 to 10\n",
    "\n",
    "total=0\n",
    "for i in range(1,11):\n",
    "    total+=i\n",
    "print(total)"
   ]
  },
  {
   "cell_type": "code",
   "execution_count": 34,
   "id": "964f6fe7-cbd4-4779-b19a-4ea5271a3b43",
   "metadata": {},
   "outputs": [],
   "source": [
    "# 4.Write a Python function to find the factorial of 5.\n",
    "\n",
    "def factorial(n):\n",
    "    result=1\n",
    "    for i in range(1,n+1):\n",
    "        result*=i\n",
    "    return result"
   ]
  },
  {
   "cell_type": "code",
   "execution_count": 35,
   "id": "92530557-6a34-48b8-8b76-43421dd1e947",
   "metadata": {},
   "outputs": [
    {
     "name": "stdout",
     "output_type": "stream",
     "text": [
      "120\n"
     ]
    }
   ],
   "source": [
    "print(factorial(5))"
   ]
  },
  {
   "cell_type": "code",
   "execution_count": 83,
   "id": "9e2edf07-5ee6-4b5a-ab42-dc5093a5e941",
   "metadata": {},
   "outputs": [
    {
     "name": "stdin",
     "output_type": "stream",
     "text": [
      "Enter the number: 7\n"
     ]
    },
    {
     "name": "stdout",
     "output_type": "stream",
     "text": [
      "It's a prime number\n"
     ]
    }
   ],
   "source": [
    "# Write a Python program to check if a number is prime.\n",
    "\n",
    "num=int(input(\"Enter the number:\"))\n",
    "\n",
    "if num>1:\n",
    "    for i in range(2,int(num**0.5)+1):\n",
    "        if num%i==0:\n",
    "            print(\"It's not a prime number\")\n",
    "            break\n",
    "    else:\n",
    "        print(\"It's a prime number\")\n",
    "else:\n",
    "    print(\"It's not a prime number\")"
   ]
  },
  {
   "cell_type": "code",
   "execution_count": 49,
   "id": "011bdbe4-3cd9-420a-b6c9-084cfb9fb7f1",
   "metadata": {},
   "outputs": [
    {
     "name": "stdout",
     "output_type": "stream",
     "text": [
      "10 9 8 7 6 5 4 3 2 1 "
     ]
    }
   ],
   "source": [
    "for i in range(10,1,-1):\n",
    "    print (i,end=\" \")"
   ]
  },
  {
   "cell_type": "code",
   "execution_count": 75,
   "id": "3f659779-5743-401d-8c41-2f03a4298093",
   "metadata": {},
   "outputs": [
    {
     "name": "stdout",
     "output_type": "stream",
     "text": [
      "1 3 5 7 9 11 13 15 17 19 "
     ]
    }
   ],
   "source": [
    "for i in range(1,20):\n",
    "    if i%2!=0:\n",
    "        print(i,end=\" \")"
   ]
  },
  {
   "cell_type": "code",
   "execution_count": 76,
   "id": "e6dd075e-45ce-4a92-bce7-6107faa706e9",
   "metadata": {},
   "outputs": [
    {
     "name": "stdout",
     "output_type": "stream",
     "text": [
      "5 10 15 20 25 30 35 40 45 50 "
     ]
    }
   ],
   "source": [
    "for i in range(1,51):\n",
    "    if i%5==0:\n",
    "        print(i,end=\" \")"
   ]
  },
  {
   "cell_type": "code",
   "execution_count": 86,
   "id": "0c99e535-a727-47fe-bf88-1861e4ded58c",
   "metadata": {},
   "outputs": [
    {
     "name": "stdin",
     "output_type": "stream",
     "text": [
      "Enter the number: 15\n"
     ]
    },
    {
     "name": "stdout",
     "output_type": "stream",
     "text": [
      "15 is not a prime number\n"
     ]
    }
   ],
   "source": [
    "num=int(input(\"Enter the number:\"))\n",
    "\n",
    "if num>1:\n",
    "    for i in range(2,int(num**0.5)+1):\n",
    "        if num%i==0:\n",
    "            print(num,\"is not a prime number\")\n",
    "            break\n",
    "    else:\n",
    "        print(num,\"is a prime number\")\n",
    "else:\n",
    "    print(num,\"is not a prime number\")"
   ]
  },
  {
   "cell_type": "code",
   "execution_count": 97,
   "id": "0f5d5300-3943-45bf-8585-deab076ce1cc",
   "metadata": {},
   "outputs": [
    {
     "name": "stdout",
     "output_type": "stream",
     "text": [
      "110\n"
     ]
    }
   ],
   "source": [
    "# Find the sum of even numbers from 1 to 20\n",
    "total=0\n",
    "for i in range(1,21):\n",
    "    if i%2==0:\n",
    "        total+=i\n",
    "print(total)"
   ]
  },
  {
   "cell_type": "code",
   "execution_count": 98,
   "id": "95abc3dd-cafb-4e26-bb96-ef598f56d2b6",
   "metadata": {},
   "outputs": [
    {
     "name": "stdout",
     "output_type": "stream",
     "text": [
      "165\n"
     ]
    }
   ],
   "source": [
    "# Find the sum of all numbers divisible by 3 from 1 to 30\n",
    "total=0\n",
    "for i in range(1,31):\n",
    "    if i%3==0:\n",
    "        total+=i\n",
    "print(total)"
   ]
  },
  {
   "cell_type": "code",
   "execution_count": 102,
   "id": "81c45ffc-e557-4f9c-9fb4-3ac2fbceae40",
   "metadata": {},
   "outputs": [
    {
     "name": "stdout",
     "output_type": "stream",
     "text": [
      "165\n"
     ]
    }
   ],
   "source": [
    "print(sum(range(3,31,3)))"
   ]
  },
  {
   "cell_type": "code",
   "execution_count": 104,
   "id": "435a01a3-6bc9-4be2-8070-1e1f13a8e67e",
   "metadata": {},
   "outputs": [
    {
     "name": "stdout",
     "output_type": "stream",
     "text": [
      "3825\n"
     ]
    }
   ],
   "source": [
    "# Find the sum of numbers from 50 to 100\n",
    "total=0\n",
    "for i in range(50,101):\n",
    "    total+=i\n",
    "print(total)"
   ]
  },
  {
   "cell_type": "code",
   "execution_count": 105,
   "id": "fbf97d17-539c-44c3-b1ba-f58294d2faee",
   "metadata": {},
   "outputs": [
    {
     "name": "stdout",
     "output_type": "stream",
     "text": [
      "3825\n"
     ]
    }
   ],
   "source": [
    "print(sum(range(50,101)))"
   ]
  },
  {
   "cell_type": "code",
   "execution_count": 106,
   "id": "ff691963-e70b-4278-8710-9635f33e4cca",
   "metadata": {},
   "outputs": [
    {
     "name": "stdout",
     "output_type": "stream",
     "text": [
      "735\n"
     ]
    }
   ],
   "source": [
    "# Find the sum of all numbers divisible by 7 between 1 and 100.\n",
    "\n",
    "print(sum(range(0,101,7)))"
   ]
  },
  {
   "cell_type": "code",
   "execution_count": 107,
   "id": "2af72c05-8f2a-4b8b-9e7e-481c18a3dfb1",
   "metadata": {},
   "outputs": [
    {
     "name": "stdout",
     "output_type": "stream",
     "text": [
      "735\n"
     ]
    }
   ],
   "source": [
    "total=0\n",
    "for i in range(1,101):\n",
    "    if i%7==0:\n",
    "        total+=i\n",
    "print(total)"
   ]
  },
  {
   "cell_type": "code",
   "execution_count": 109,
   "id": "5016b005-e3b0-4b79-b1c0-e413e39c3b08",
   "metadata": {},
   "outputs": [
    {
     "name": "stdout",
     "output_type": "stream",
     "text": [
      "385\n"
     ]
    }
   ],
   "source": [
    "# Find the sum of squares of numbers from 1 to 10\n",
    "total=0\n",
    "for i in range(1,11):\n",
    "    total+=i**2\n",
    "print(total)"
   ]
  },
  {
   "cell_type": "code",
   "execution_count": 110,
   "id": "72e65ace-94c0-4103-becb-25341ab9e1e5",
   "metadata": {},
   "outputs": [
    {
     "name": "stdout",
     "output_type": "stream",
     "text": [
      "385\n"
     ]
    }
   ],
   "source": [
    "print(sum(i**2 for i in range(1,11)))"
   ]
  },
  {
   "cell_type": "code",
   "execution_count": 111,
   "id": "f8cf2ff2-ede6-437b-8281-3b28a842fa82",
   "metadata": {},
   "outputs": [
    {
     "name": "stdout",
     "output_type": "stream",
     "text": [
      "225\n"
     ]
    }
   ],
   "source": [
    "# Find the sum of cubes of numbers from 1 to 5.\n",
    "print(sum(i**3 for i in range(1,6)))"
   ]
  },
  {
   "cell_type": "code",
   "execution_count": 113,
   "id": "7876f232-d72b-471f-af29-490a7264df3e",
   "metadata": {},
   "outputs": [
    {
     "name": "stdout",
     "output_type": "stream",
     "text": [
      "225\n"
     ]
    }
   ],
   "source": [
    "total=0\n",
    "for i in range(1,6):\n",
    "    total+=i**3\n",
    "print(total)"
   ]
  },
  {
   "cell_type": "code",
   "execution_count": 114,
   "id": "01b7f93e-1cc3-4345-bb39-eab80eaff5d3",
   "metadata": {},
   "outputs": [
    {
     "name": "stdout",
     "output_type": "stream",
     "text": [
      "2.5\n"
     ]
    }
   ],
   "source": [
    "print(5/2)"
   ]
  },
  {
   "cell_type": "code",
   "execution_count": null,
   "id": "89e7408d-dcc8-431a-a867-da4085e48651",
   "metadata": {},
   "outputs": [],
   "source": []
  },
  {
   "cell_type": "code",
   "execution_count": null,
   "id": "6ba116e1-7a14-4a5f-86ba-bccf7795597c",
   "metadata": {},
   "outputs": [],
   "source": []
  }
 ],
 "metadata": {
  "kernelspec": {
   "display_name": "Python [conda env:base] *",
   "language": "python",
   "name": "conda-base-py"
  },
  "language_info": {
   "codemirror_mode": {
    "name": "ipython",
    "version": 3
   },
   "file_extension": ".py",
   "mimetype": "text/x-python",
   "name": "python",
   "nbconvert_exporter": "python",
   "pygments_lexer": "ipython3",
   "version": "3.13.5"
  }
 },
 "nbformat": 4,
 "nbformat_minor": 5
}
