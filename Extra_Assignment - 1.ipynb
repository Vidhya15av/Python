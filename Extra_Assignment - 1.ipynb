{
 "cells": [
  {
   "cell_type": "code",
   "execution_count": 4,
   "id": "88648b08-bbb8-4bbe-b79d-bc8a7045914c",
   "metadata": {},
   "outputs": [
    {
     "name": "stdout",
     "output_type": "stream",
     "text": [
      "Hope AI\n"
     ]
    }
   ],
   "source": [
    "print(\"Hope AI\")"
   ]
  },
  {
   "cell_type": "code",
   "execution_count": 5,
   "id": "901ed138-b1df-49c1-b9df-39d51a07bca6",
   "metadata": {},
   "outputs": [
    {
     "name": "stdin",
     "output_type": "stream",
     "text": [
      "Enter your institute name?: Hope AI\n"
     ]
    }
   ],
   "source": [
    "Institute=input(\"Enter your institute name?:\")"
   ]
  },
  {
   "cell_type": "code",
   "execution_count": 8,
   "id": "fa4577c7-58a5-408e-b4cf-9613be9923db",
   "metadata": {},
   "outputs": [
    {
     "name": "stdin",
     "output_type": "stream",
     "text": [
      "Enter your name: Raj\n",
      "Enter your age: 15\n",
      "Enter your school name: Guru School\n",
      "Enter your drgree: B.E CSE\n"
     ]
    }
   ],
   "source": [
    "Name=input(\"Enter your name:\")\n",
    "Age=input(\"Enter your age:\")\n",
    "School=input(\"Enter your school name:\")\n",
    "Degree=input(\"Enter your drgree:\")"
   ]
  },
  {
   "cell_type": "code",
   "execution_count": 15,
   "id": "a660f510-6209-4b5e-aea7-a61f03592cea",
   "metadata": {},
   "outputs": [
    {
     "name": "stdout",
     "output_type": "stream",
     "text": [
      "a = 43\n",
      "b = 34\n",
      "add = 77\n"
     ]
    }
   ],
   "source": [
    "print(\"a =\",a)\n",
    "a=43\n",
    "print(\"b =\",b)\n",
    "b=34\n",
    "print(\"add =\",a+b)"
   ]
  },
  {
   "cell_type": "code",
   "execution_count": 18,
   "id": "7424544e-3bab-431b-96b5-74dca6cb5a43",
   "metadata": {},
   "outputs": [
    {
     "name": "stdout",
     "output_type": "stream",
     "text": [
      "a = 43\n",
      "b = 34\n",
      "Sub = 9\n"
     ]
    }
   ],
   "source": [
    "print(\"a =\",a)\n",
    "a=43\n",
    "print(\"b =\",b)\n",
    "b=34\n",
    "print(\"Sub =\",a-b)"
   ]
  },
  {
   "cell_type": "code",
   "execution_count": 22,
   "id": "14913508-4d26-455a-b147-8427135893e0",
   "metadata": {},
   "outputs": [
    {
     "name": "stdout",
     "output_type": "stream",
     "text": [
      "a = 63\n",
      "b = 97\n",
      "Mul = 6111\n"
     ]
    }
   ],
   "source": [
    "print(\"a =\",a)\n",
    "a=63\n",
    "print(\"b =\",b)\n",
    "b=97\n",
    "print(\"Mul =\",a*b)"
   ]
  },
  {
   "cell_type": "code",
   "execution_count": 24,
   "id": "d509ce99-2f94-467b-8236-ab2454aa6b36",
   "metadata": {},
   "outputs": [
    {
     "name": "stdout",
     "output_type": "stream",
     "text": [
      "a = 76\n",
      "b = 31\n",
      "Float Div = 2.4516129032258065\n"
     ]
    }
   ],
   "source": [
    "print(\"a =\",a)\n",
    "a=76\n",
    "print(\"b =\",b)\n",
    "b=31\n",
    "print(\"Float Div =\",a/b)"
   ]
  },
  {
   "cell_type": "code",
   "execution_count": 26,
   "id": "dcff9963-5f2a-4d65-bc12-c88414450464",
   "metadata": {},
   "outputs": [
    {
     "name": "stdout",
     "output_type": "stream",
     "text": [
      "a = 76\n",
      "b = 31\n",
      "Floor Div = 2\n"
     ]
    }
   ],
   "source": [
    "print(\"a =\",a)\n",
    "a=76\n",
    "print(\"b =\",b)\n",
    "b=31\n",
    "print(\"Floor Div =\",a//b)"
   ]
  },
  {
   "cell_type": "code",
   "execution_count": 29,
   "id": "0417b03b-6419-4ade-b15e-ec2394b83192",
   "metadata": {},
   "outputs": [
    {
     "name": "stdout",
     "output_type": "stream",
     "text": [
      "a = 76\n",
      "b = 31\n",
      "Modulo = 14\n"
     ]
    }
   ],
   "source": [
    "print(\"a =\",a)\n",
    "a=76\n",
    "print(\"b =\",b)\n",
    "b=31\n",
    "print(\"Modulo =\",a%b)"
   ]
  },
  {
   "cell_type": "code",
   "execution_count": 31,
   "id": "57a4cfec-1ad2-4bb5-beec-e10f209d11c5",
   "metadata": {},
   "outputs": [
    {
     "name": "stdout",
     "output_type": "stream",
     "text": [
      "a = 4\n",
      "b = 4\n",
      "Power = 256\n"
     ]
    }
   ],
   "source": [
    "print(\"a =\",a)\n",
    "a=4\n",
    "print(\"b =\",b)\n",
    "b=4\n",
    "print(\"Power =\",a**b)"
   ]
  },
  {
   "cell_type": "code",
   "execution_count": null,
   "id": "f079038d-7e23-4596-9148-afbcc30d5c89",
   "metadata": {},
   "outputs": [],
   "source": []
  }
 ],
 "metadata": {
  "kernelspec": {
   "display_name": "Python [conda env:base] *",
   "language": "python",
   "name": "conda-base-py"
  },
  "language_info": {
   "codemirror_mode": {
    "name": "ipython",
    "version": 3
   },
   "file_extension": ".py",
   "mimetype": "text/x-python",
   "name": "python",
   "nbconvert_exporter": "python",
   "pygments_lexer": "ipython3",
   "version": "3.13.5"
  }
 },
 "nbformat": 4,
 "nbformat_minor": 5
}
