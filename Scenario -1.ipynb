{
 "cells": [
  {
   "cell_type": "code",
   "execution_count": 1,
   "id": "15354fc0-b27d-40c3-bb1b-8ac473581c37",
   "metadata": {},
   "outputs": [],
   "source": [
    "#A system checks if a user is eligible to vote based on their age.\n",
    "# Write logic to ask the user for their age and determine if they are eligible to vote based on whether they are 18 or older.\n"
   ]
  },
  {
   "cell_type": "code",
   "execution_count": 3,
   "id": "fd22d9a0-9fbc-4f31-8e53-53e2b0271ed0",
   "metadata": {},
   "outputs": [
    {
     "name": "stdin",
     "output_type": "stream",
     "text": [
      "Enter the age: 26\n"
     ]
    },
    {
     "name": "stdout",
     "output_type": "stream",
     "text": [
      "Eligible to vote\n"
     ]
    }
   ],
   "source": [
    "age= int(input(\"Enter the age:\"))\n",
    "if age>=18:\n",
    "    print(\"Eligible to vote\")\n",
    "else:\n",
    "    print(\"Not eligible to vote\")"
   ]
  },
  {
   "cell_type": "code",
   "execution_count": 31,
   "id": "8eb5c28b-d33c-4106-8c49-ae25c2e7433e",
   "metadata": {},
   "outputs": [],
   "source": [
    "#A program processes a list of numbers and needs to find the largest value.\n",
    "# Write logic to identify and return the largest number from a given list."
   ]
  },
  {
   "cell_type": "code",
   "execution_count": 15,
   "id": "d30575a3-7ba5-4409-aa98-618c950c4eae",
   "metadata": {},
   "outputs": [],
   "source": [
    "numbers=[23, 45, 54, 79, 16]"
   ]
  },
  {
   "cell_type": "code",
   "execution_count": 30,
   "id": "85829aff-37ee-42d5-b63c-749b7e8a9f42",
   "metadata": {},
   "outputs": [
    {
     "name": "stdout",
     "output_type": "stream",
     "text": [
      "Largest number: 79\n"
     ]
    }
   ],
   "source": [
    "def LargeNumber(numbers):\n",
    "    largest=numbers[0]\n",
    "    for num in numbers:\n",
    "        if num>largest:\n",
    "            largest=num\n",
    "    return largest\n",
    "print(\"Largest number:\",LargeNumber(numbers))"
   ]
  },
  {
   "cell_type": "code",
   "execution_count": null,
   "id": "ae1de736-01cc-4541-85f2-5b2d185598c2",
   "metadata": {},
   "outputs": [],
   "source": [
    "# A company provides employees with a 10% bonus if their salary exceeds $50,000.\n",
    "# Write logic to determine the bonus amount based on the given salary"
   ]
  },
  {
   "cell_type": "code",
   "execution_count": 8,
   "id": "e61a1b39-1f65-4d2b-bd01-3da5d43ce115",
   "metadata": {},
   "outputs": [
    {
     "name": "stdin",
     "output_type": "stream",
     "text": [
      "Enter the salary: 78000\n"
     ]
    },
    {
     "name": "stdout",
     "output_type": "stream",
     "text": [
      "Bonus amount: 7800.0\n"
     ]
    }
   ],
   "source": [
    "salary=float(input(\"Enter the salary:\"))\n",
    "if salary>50000:\n",
    "    bonus=salary*0.1\n",
    "else:\n",
    "    bonus=0\n",
    "print(\"Bonus amount:\",bonus)"
   ]
  },
  {
   "cell_type": "code",
   "execution_count": null,
   "id": "ef3d7517-03a0-4204-99e0-079f9bcbe056",
   "metadata": {},
   "outputs": [],
   "source": [
    "# A company gives a 15% bonus if the salary is above ₹80,000, otherwise only a 5% bonus. \n",
    "# If an employee earns ₹85,000, what will their bonus amount be?"
   ]
  },
  {
   "cell_type": "code",
   "execution_count": 9,
   "id": "078b375b-55db-4b93-8327-4621f23f7b7d",
   "metadata": {},
   "outputs": [
    {
     "name": "stdin",
     "output_type": "stream",
     "text": [
      "Enter the salary: 85000\n"
     ]
    },
    {
     "name": "stdout",
     "output_type": "stream",
     "text": [
      "Bonus amount: 12750.0\n"
     ]
    }
   ],
   "source": [
    "salary=float(input(\"Enter the salary:\"))\n",
    "if salary>80000:\n",
    "    bonus=salary*0.15\n",
    "else:\n",
    "    bonus=salary*0.05\n",
    "print(\"Bonus amount:\",bonus)"
   ]
  },
  {
   "cell_type": "code",
   "execution_count": null,
   "id": "1b42b3e0-4b3d-435b-afc7-45f4ad4f5013",
   "metadata": {},
   "outputs": [],
   "source": [
    "# A program evaluates a number to determine if it is even or odd.\n",
    "# Write logic to check whether a given number is even or odd."
   ]
  },
  {
   "cell_type": "code",
   "execution_count": 12,
   "id": "aaa6666b-936e-4d31-9368-84b0ab0f2262",
   "metadata": {},
   "outputs": [
    {
     "name": "stdin",
     "output_type": "stream",
     "text": [
      "Enter the number: 60\n"
     ]
    },
    {
     "name": "stdout",
     "output_type": "stream",
     "text": [
      "Even\n"
     ]
    }
   ],
   "source": [
    "num=int(input(\"Enter the number:\"))\n",
    "if num%2==0:\n",
    "    print(\"Even\")\n",
    "else:\n",
    "    print(\"Odd\")"
   ]
  },
  {
   "cell_type": "code",
   "execution_count": null,
   "id": "48946de9-efc4-449a-8e80-2bae8933cada",
   "metadata": {},
   "outputs": [],
   "source": [
    "# A text-processing tool reverses a given word or sentence for formatting purposes.\n",
    "# Write logic to take a word or sentence as input and produce its reversed version."
   ]
  },
  {
   "cell_type": "code",
   "execution_count": 13,
   "id": "c7952869-4581-4f5d-a05f-f80929ae69ae",
   "metadata": {},
   "outputs": [
    {
     "name": "stdin",
     "output_type": "stream",
     "text": [
      "Enter the text: VidMan\n"
     ]
    },
    {
     "name": "stdout",
     "output_type": "stream",
     "text": [
      "Reversed: naMdiV\n"
     ]
    }
   ],
   "source": [
    "text=input(\"Enter the text:\")\n",
    "reversedtext=text[::-1]\n",
    "print(\"Reversed:\",reversedtext)"
   ]
  },
  {
   "cell_type": "code",
   "execution_count": 15,
   "id": "7df9a3f1-73d5-4515-80e0-aafba324489f",
   "metadata": {},
   "outputs": [
    {
     "name": "stdin",
     "output_type": "stream",
     "text": [
      "Enter the sentence: OpenAI is amazing\n"
     ]
    },
    {
     "name": "stdout",
     "output_type": "stream",
     "text": [
      "Reversed sentence: gnizama si IAnepO\n"
     ]
    }
   ],
   "source": [
    "sentence=input(\"Enter the sentence:\")\n",
    "rev_sent=sentence[::-1]\n",
    "print(\"Reversed sentence:\",rev_sent)"
   ]
  },
  {
   "cell_type": "code",
   "execution_count": null,
   "id": "50ad1145-3415-4f71-96ef-89f22de6c340",
   "metadata": {},
   "outputs": [],
   "source": [
    "# A grading system determines whether a student has passed or failed based on their score.\n",
    "# Write logic to check if a student has passed a subject by scoring at least 40 marks."
   ]
  },
  {
   "cell_type": "code",
   "execution_count": 20,
   "id": "7b1e9d83-fbcb-45fb-8f6c-0cacc4e50583",
   "metadata": {},
   "outputs": [
    {
     "name": "stdin",
     "output_type": "stream",
     "text": [
      "Enter your mark: 87\n"
     ]
    },
    {
     "name": "stdout",
     "output_type": "stream",
     "text": [
      "Passed\n"
     ]
    }
   ],
   "source": [
    "mark=int(input(\"Enter your mark:\"))\n",
    "if mark>=40:\n",
    "    print(\"Passed\")\n",
    "else:\n",
    "    print(\"Failed\")"
   ]
  },
  {
   "cell_type": "code",
   "execution_count": null,
   "id": "8dc62c51-160b-400b-9175-be03518b4784",
   "metadata": {},
   "outputs": [],
   "source": [
    "# A retail store offers a 20% discount if a customer’s total order exceeds $100.\n",
    "# Write logic to calculate the final amount to be paid after applying the discount."
   ]
  },
  {
   "cell_type": "code",
   "execution_count": 30,
   "id": "7c803825-df97-4922-97bd-225e57adb365",
   "metadata": {},
   "outputs": [
    {
     "name": "stdin",
     "output_type": "stream",
     "text": [
      "Enter the amount: 200\n"
     ]
    },
    {
     "name": "stdout",
     "output_type": "stream",
     "text": [
      "Discount: 40.0\n",
      "Final amount: 160.0\n"
     ]
    }
   ],
   "source": [
    "amount=int(input(\"Enter the amount:\"))\n",
    "if amount>100:\n",
    "    discount=amount*0.2\n",
    "else:\n",
    "    discount=0\n",
    "print(\"Discount:\",discount)\n",
    "print(\"Final amount:\",amount-discount)"
   ]
  },
  {
   "cell_type": "code",
   "execution_count": null,
   "id": "90f121e5-3ef3-4805-80cb-5f4f21228445",
   "metadata": {},
   "outputs": [],
   "source": [
    "#A banking system processes withdrawal requests and ensures the user has enough balance.\n",
    "# Write logic to check if a user has enough balance before allowing a withdrawal and update the remaining balance accordingly."
   ]
  },
  {
   "cell_type": "code",
   "execution_count": 38,
   "id": "3d83fb4a-a36d-4e4c-bb08-eac371458e95",
   "metadata": {},
   "outputs": [
    {
     "name": "stdin",
     "output_type": "stream",
     "text": [
      "Balance: 8500\n",
      "Withdrawal Amount: 9000\n"
     ]
    },
    {
     "name": "stdout",
     "output_type": "stream",
     "text": [
      "Don't Allow Withdrawal\n"
     ]
    }
   ],
   "source": [
    "balance=float(input(\"Balance:\"))\n",
    "withdrawal=float(input(\"Withdrawal Amount:\"))\n",
    "if withdrawal<=balance:\n",
    "    print(\"Allow Withdrawal\")\n",
    "    print(\"Available balance:\",balance- withdrawal)\n",
    "else:\n",
    "    print(\"Don't Allow Withdrawal\")"
   ]
  },
  {
   "cell_type": "code",
   "execution_count": null,
   "id": "06a19d43-3728-4e4d-a93c-0879a5541871",
   "metadata": {},
   "outputs": [],
   "source": [
    "# A calendar system verifies whether a given year is a leap year based on standard leap year rules.\n",
    "# Write logic to determine whether a given year is a leap year."
   ]
  },
  {
   "cell_type": "code",
   "execution_count": 44,
   "id": "db06add0-d1bb-4651-8818-573380343ea1",
   "metadata": {},
   "outputs": [
    {
     "name": "stdin",
     "output_type": "stream",
     "text": [
      "Enter the year: 2024\n"
     ]
    },
    {
     "name": "stdout",
     "output_type": "stream",
     "text": [
      "Leap year\n"
     ]
    }
   ],
   "source": [
    "year=int(input(\"Enter the year:\"))\n",
    "if (year%4==0 and year%100!=0) or (year%400==0):\n",
    "    print(\"Leap year\")\n",
    "else:\n",
    "    print(\"Not Leap year\")"
   ]
  },
  {
   "cell_type": "code",
   "execution_count": null,
   "id": "0b35bf01-0aeb-42d9-908e-d170bfea8d1a",
   "metadata": {},
   "outputs": [],
   "source": [
    "# A program filters out only even numbers from a given list.\n",
    "# Write logic to extract and return only the even numbers from a list."
   ]
  },
  {
   "cell_type": "code",
   "execution_count": 62,
   "id": "5b74b304-a90b-4ca9-a605-ce9f8cf11947",
   "metadata": {},
   "outputs": [],
   "source": [
    "numbers=[10, 23, 45, 12, 67, 34, 89, 50, 22]\n",
    "def EvenNumbers():\n",
    "    Even=[]\n",
    "    for num in numbers:\n",
    "        if num%2==0:\n",
    "            Even.append(num)\n",
    "    return Even"
   ]
  },
  {
   "cell_type": "code",
   "execution_count": 63,
   "id": "7e9e9dd7-d628-4d62-a510-48bc76cf6721",
   "metadata": {},
   "outputs": [
    {
     "name": "stdout",
     "output_type": "stream",
     "text": [
      "[10, 12, 34, 50, 22]\n"
     ]
    }
   ],
   "source": [
    "print(EvenNumbers())"
   ]
  },
  {
   "cell_type": "code",
   "execution_count": null,
   "id": "9779c2ce-e9dd-4e38-adda-972b589a4230",
   "metadata": {},
   "outputs": [],
   "source": [
    "# Write a Python function that takes a list of numbers and returns a new list containing only the odd numbers from the original list."
   ]
  },
  {
   "cell_type": "code",
   "execution_count": 68,
   "id": "87646443-65eb-4cd2-aaaa-f71df7ecbbc6",
   "metadata": {},
   "outputs": [],
   "source": [
    "Input= [10, 23, 45, 12, 67, 34, 89, 50, 22]\n",
    "def OddNum():\n",
    "    odd=[]\n",
    "    for num in Input:\n",
    "        if num%2!=0:\n",
    "            odd.append(num)\n",
    "    return odd"
   ]
  },
  {
   "cell_type": "code",
   "execution_count": 69,
   "id": "b7bdb88f-0a34-46bb-914f-ab34e95d0adb",
   "metadata": {},
   "outputs": [
    {
     "name": "stdout",
     "output_type": "stream",
     "text": [
      "[23, 45, 67, 89]\n"
     ]
    }
   ],
   "source": [
    "print(OddNum())"
   ]
  },
  {
   "cell_type": "code",
   "execution_count": null,
   "id": "9adac334-038b-4309-8f5a-558e2e98c797",
   "metadata": {},
   "outputs": [],
   "source": []
  }
 ],
 "metadata": {
  "kernelspec": {
   "display_name": "Python [conda env:base] *",
   "language": "python",
   "name": "conda-base-py"
  },
  "language_info": {
   "codemirror_mode": {
    "name": "ipython",
    "version": 3
   },
   "file_extension": ".py",
   "mimetype": "text/x-python",
   "name": "python",
   "nbconvert_exporter": "python",
   "pygments_lexer": "ipython3",
   "version": "3.13.5"
  }
 },
 "nbformat": 4,
 "nbformat_minor": 5
}
