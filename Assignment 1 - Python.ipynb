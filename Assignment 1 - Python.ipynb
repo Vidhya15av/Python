{
 "cells": [
  {
   "cell_type": "code",
   "execution_count": 3,
   "id": "3519ec46-3329-414e-9990-3f0e8a18b19a",
   "metadata": {},
   "outputs": [
    {
     "name": "stdout",
     "output_type": "stream",
     "text": [
      "Welcome to Assignment-1\n"
     ]
    }
   ],
   "source": [
    "print(\"Welcome to Assignment-1\")"
   ]
  },
  {
   "cell_type": "code",
   "execution_count": 10,
   "id": "5ae91fae-2da7-497c-af7d-013aeff7541c",
   "metadata": {},
   "outputs": [
    {
     "name": "stdout",
     "output_type": "stream",
     "text": [
      "Num1= 10\n",
      "Num2= 30\n",
      "Add= 40\n"
     ]
    }
   ],
   "source": [
    "print(\"Num1=\",num1)\n",
    "num1=10\n",
    "print(\"Num2=\",num2)\n",
    "num2=30\n",
    "print(\"Add=\",Add)\n",
    "Add=num1+num2"
   ]
  },
  {
   "cell_type": "raw",
   "id": "703fdb7d-e028-4ee6-936d-36a7b545122b",
   "metadata": {},
   "source": [
    "BMI<18.5>\n",
    "BMI<24.9>\n",
    "BMI<29.9>\n",
    "BMI>30>"
   ]
  },
  {
   "cell_type": "code",
   "execution_count": 16,
   "id": "9be25a3f-8c8c-45f7-94fb-028ad5b5bfdb",
   "metadata": {},
   "outputs": [
    {
     "name": "stdin",
     "output_type": "stream",
     "text": [
      "Enter the BMI Index: 34\n"
     ]
    },
    {
     "name": "stdout",
     "output_type": "stream",
     "text": [
      "Very Overweight\n"
     ]
    }
   ],
   "source": [
    "BMI=int(input(\"Enter the BMI Index:\"))\n",
    "if(BMI<18.5):\n",
    "    print(\"Underweight\")\n",
    "elif(BMI<24.9):\n",
    "    print(\"Normal\")\n",
    "elif(BMI<29.9):\n",
    "    print(\"Overweight\")\n",
    "else:\n",
    "    print(\"Very Overweight\")"
   ]
  },
  {
   "cell_type": "code",
   "execution_count": null,
   "id": "cec0e9b4-991e-40b1-a67e-84cbdedc350f",
   "metadata": {},
   "outputs": [],
   "source": []
  }
 ],
 "metadata": {
  "kernelspec": {
   "display_name": "Python [conda env:base] *",
   "language": "python",
   "name": "conda-base-py"
  },
  "language_info": {
   "codemirror_mode": {
    "name": "ipython",
    "version": 3
   },
   "file_extension": ".py",
   "mimetype": "text/x-python",
   "name": "python",
   "nbconvert_exporter": "python",
   "pygments_lexer": "ipython3",
   "version": "3.13.5"
  }
 },
 "nbformat": 4,
 "nbformat_minor": 5
}
