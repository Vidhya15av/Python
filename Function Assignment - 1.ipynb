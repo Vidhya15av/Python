{
 "cells": [
  {
   "cell_type": "code",
   "execution_count": 19,
   "id": "01cef74c-2d01-4463-bc3e-f2df725c8c3f",
   "metadata": {},
   "outputs": [],
   "source": [
    "def subfields():\n",
    "    print(\"Sub-fields in AI are:\")\n",
    "    Subfields=[\"Machine Learning\",\n",
    "              \"Neural Networks\",\n",
    "              \"Vision\",\n",
    "              \"Robotics\",\n",
    "              \"Speech Processing\",\n",
    "              \"Natural Language Processing\",]\n",
    "    for field in Subfields:\n",
    "        print(field)"
   ]
  },
  {
   "cell_type": "code",
   "execution_count": 20,
   "id": "4944cf5d-d523-4cbd-a05e-87ac39575df0",
   "metadata": {},
   "outputs": [
    {
     "name": "stdout",
     "output_type": "stream",
     "text": [
      "Sub-fields in AI are:\n",
      "Machine Learning\n",
      "Neural Networks\n",
      "Vision\n",
      "Robotics\n",
      "Speech Processing\n",
      "Natural Language Processing\n"
     ]
    }
   ],
   "source": [
    "subfields()"
   ]
  },
  {
   "cell_type": "code",
   "execution_count": 37,
   "id": "7bcf8056-8410-4066-a2a5-a76059de38df",
   "metadata": {},
   "outputs": [],
   "source": [
    "def OddEven():\n",
    "    num=int(input(\"Enter a number:\"))\n",
    "    if (num%2==0):\n",
    "        print(num,\"is Even number\")\n",
    "    else:\n",
    "        print(num,\"is Odd number\")"
   ]
  },
  {
   "cell_type": "code",
   "execution_count": 38,
   "id": "a0b14ec6-cd1d-45ed-8d80-ba5e779071cc",
   "metadata": {},
   "outputs": [
    {
     "name": "stdin",
     "output_type": "stream",
     "text": [
      "Enter a number: 52452\n"
     ]
    },
    {
     "name": "stdout",
     "output_type": "stream",
     "text": [
      "52452 is Even number\n"
     ]
    }
   ],
   "source": [
    "OddEven()"
   ]
  },
  {
   "cell_type": "code",
   "execution_count": 74,
   "id": "b339185a-478e-4295-bfff-f1ca461c30bb",
   "metadata": {},
   "outputs": [],
   "source": [
    "def ElegiblityForMarriage():\n",
    "    Gender=input(\"Your Gender:\")\n",
    "    Age=int(input(\"Your Age:\"))\n",
    "    if(gender==\"male\" and age>=21):\n",
    "        print(\"ELIGIBLE\")\n",
    "    elif(gender==\"female\" and age>=18):\n",
    "        print(\"ELIGIBLE\")\n",
    "    else:\n",
    "        print(\"NOT ELIGIBLE\")"
   ]
  },
  {
   "cell_type": "code",
   "execution_count": 75,
   "id": "09d755c0-0ee8-4e23-a901-1a15fa81a201",
   "metadata": {},
   "outputs": [
    {
     "name": "stdin",
     "output_type": "stream",
     "text": [
      "Your Gender: Male\n",
      "Your Age: 20\n"
     ]
    },
    {
     "name": "stdout",
     "output_type": "stream",
     "text": [
      "NOT ELIGIBLE\n"
     ]
    }
   ],
   "source": [
    "ElegiblityForMarriage()"
   ]
  },
  {
   "cell_type": "code",
   "execution_count": 85,
   "id": "ed5b93fb-1b41-416d-b35c-0d761190c083",
   "metadata": {},
   "outputs": [],
   "source": [
    "def FindPercentage():\n",
    "    S1=int(input(\"Subject1=\"))\n",
    "    S2=int(input(\"Subject2=\"))\n",
    "    S3=int(input(\"Subject3=\"))\n",
    "    S4=int(input(\"Subject4=\"))\n",
    "    S5=int(input(\"Subject5=\"))\n",
    "\n",
    "    total=S1+S2+S3+S4+S5\n",
    "    percentage=(total/500)*100\n",
    "    print(\"Total:\",total)\n",
    "    print(\"Percentage:\",percentage)"
   ]
  },
  {
   "cell_type": "code",
   "execution_count": 86,
   "id": "fc35b938-12a8-4c19-84a9-8dbb676b2c96",
   "metadata": {},
   "outputs": [
    {
     "name": "stdin",
     "output_type": "stream",
     "text": [
      "Subject1= 98\n",
      "Subject2= 87\n",
      "Subject3= 95\n",
      "Subject4= 95\n",
      "Subject5= 93\n"
     ]
    },
    {
     "name": "stdout",
     "output_type": "stream",
     "text": [
      "Total: 468\n",
      "Percentage: 93.60000000000001\n"
     ]
    }
   ],
   "source": [
    "FindPercentage()"
   ]
  },
  {
   "cell_type": "code",
   "execution_count": 101,
   "id": "778eb691-bc45-4227-8eca-8c5ec9779bee",
   "metadata": {},
   "outputs": [],
   "source": [
    "def AreaTriangle():\n",
    "    height=int(input(\"Height:\"))\n",
    "    breadth=int(input(\"Breadth:\"))\n",
    "    area=(height*breadth)/2\n",
    "    print(\"Area formula:(Height*Breadth)/2\")\n",
    "    print(\"Area of Triangle\",area)\n",
    "\n",
    "def PerimeterTriangle():\n",
    "    Height1=int(input(\"Height1:\"))\n",
    "    Height2=int(input(\"Height2:\"))\n",
    "    Breadth=int(input(\"Breadth:\"))\n",
    "    perimeter=Height1+Height2+Breadth\n",
    "    print(\"Perimeter formula: Height1+Height2+Breadth\")\n",
    "    print(\"Perimeter of Triangle:\",perimeter)"
   ]
  },
  {
   "cell_type": "code",
   "execution_count": 102,
   "id": "c7206ee4-71de-4524-b256-b15672873651",
   "metadata": {},
   "outputs": [
    {
     "name": "stdin",
     "output_type": "stream",
     "text": [
      "Height: 32\n",
      "Breadth: 34\n"
     ]
    },
    {
     "name": "stdout",
     "output_type": "stream",
     "text": [
      "Area formula:(Height*Breadth)/2\n",
      "Area of Triangle 544.0\n"
     ]
    },
    {
     "name": "stdin",
     "output_type": "stream",
     "text": [
      "Height1: 2\n",
      "Height2: 4\n",
      "Breadth: 4\n"
     ]
    },
    {
     "name": "stdout",
     "output_type": "stream",
     "text": [
      "Perimeter formula: Height1+Height2+Breadth\n",
      "Perimeter of Triangle: 10\n"
     ]
    }
   ],
   "source": [
    "AreaTriangle()\n",
    "PerimeterTriangle()"
   ]
  },
  {
   "cell_type": "code",
   "execution_count": null,
   "id": "f32ee60d-cf36-407f-b6e9-834f77382aa3",
   "metadata": {},
   "outputs": [],
   "source": []
  }
 ],
 "metadata": {
  "kernelspec": {
   "display_name": "Python [conda env:base] *",
   "language": "python",
   "name": "conda-base-py"
  },
  "language_info": {
   "codemirror_mode": {
    "name": "ipython",
    "version": 3
   },
   "file_extension": ".py",
   "mimetype": "text/x-python",
   "name": "python",
   "nbconvert_exporter": "python",
   "pygments_lexer": "ipython3",
   "version": "3.13.5"
  }
 },
 "nbformat": 4,
 "nbformat_minor": 5
}
