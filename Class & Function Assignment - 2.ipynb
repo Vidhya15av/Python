{
 "cells": [
  {
   "cell_type": "code",
   "execution_count": 12,
   "id": "1f1960a8-c97c-4751-86ea-875413458839",
   "metadata": {},
   "outputs": [],
   "source": [
    "from ClassAssign import AllFunctions"
   ]
  },
  {
   "cell_type": "code",
   "execution_count": 15,
   "id": "cf448aab-33a4-4e3f-a6c6-0c16a092a17b",
   "metadata": {},
   "outputs": [],
   "source": [
    "obj = AllFunctions()"
   ]
  },
  {
   "cell_type": "code",
   "execution_count": 16,
   "id": "e8f69c5f-960c-4e13-9fa7-6f40b2d22f13",
   "metadata": {},
   "outputs": [
    {
     "name": "stdout",
     "output_type": "stream",
     "text": [
      "Sub-fields in AI are:\n",
      "Machine Learning\n",
      "Neural Networks\n",
      "Vision\n",
      "Robotics\n",
      "Speech Processing\n",
      "Natural Language Processing\n"
     ]
    }
   ],
   "source": [
    "obj.subfields()"
   ]
  },
  {
   "cell_type": "code",
   "execution_count": 17,
   "id": "0994ffa8-96cf-4384-b17b-b73b8dd4da03",
   "metadata": {},
   "outputs": [
    {
     "name": "stdin",
     "output_type": "stream",
     "text": [
      "Enter a number: 52452\n"
     ]
    },
    {
     "name": "stdout",
     "output_type": "stream",
     "text": [
      "52452 is Even number\n"
     ]
    }
   ],
   "source": [
    "obj.OddEven()"
   ]
  },
  {
   "cell_type": "code",
   "execution_count": 18,
   "id": "e14f61ab-dba6-4614-bb7e-da25c7c8c007",
   "metadata": {},
   "outputs": [
    {
     "name": "stdin",
     "output_type": "stream",
     "text": [
      "Your Gender: Male\n",
      "Your Age: 20\n"
     ]
    },
    {
     "name": "stdout",
     "output_type": "stream",
     "text": [
      "NOT ELIGIBLE\n"
     ]
    }
   ],
   "source": [
    "obj.Elegible()"
   ]
  },
  {
   "cell_type": "code",
   "execution_count": 19,
   "id": "0820e3ca-34ec-44d1-8079-56c994b145f3",
   "metadata": {},
   "outputs": [
    {
     "name": "stdin",
     "output_type": "stream",
     "text": [
      "Subject1= 98\n",
      "Subject2= 87\n",
      "Subject3= 95\n",
      "Subject4= 95\n",
      "Subject5= 93\n"
     ]
    },
    {
     "name": "stdout",
     "output_type": "stream",
     "text": [
      "Total: 468\n",
      "Percentage: 93.60000000000001\n"
     ]
    }
   ],
   "source": [
    "obj.percentage()"
   ]
  },
  {
   "cell_type": "code",
   "execution_count": 20,
   "id": "0e5765cd-dab9-44e8-8782-b1d4ea27b338",
   "metadata": {},
   "outputs": [
    {
     "name": "stdin",
     "output_type": "stream",
     "text": [
      "Height: 32\n",
      "Breadth: 34\n"
     ]
    },
    {
     "name": "stdout",
     "output_type": "stream",
     "text": [
      "Area formula:(Height*Breadth)/2\n",
      "Area of Triangle 544.0\n"
     ]
    },
    {
     "name": "stdin",
     "output_type": "stream",
     "text": [
      "Height1: 2\n",
      "Height2: 4\n",
      "Breadth: 4\n"
     ]
    },
    {
     "name": "stdout",
     "output_type": "stream",
     "text": [
      "Perimeter formula: Height1+Height2+Breadth\n",
      "Perimeter of Triangle: 10\n"
     ]
    }
   ],
   "source": [
    "obj.Triangle()"
   ]
  },
  {
   "cell_type": "code",
   "execution_count": null,
   "id": "13c39d78-7554-4cc3-9abf-da88e7a12c8e",
   "metadata": {},
   "outputs": [],
   "source": []
  }
 ],
 "metadata": {
  "kernelspec": {
   "display_name": "Python [conda env:base] *",
   "language": "python",
   "name": "conda-base-py"
  },
  "language_info": {
   "codemirror_mode": {
    "name": "ipython",
    "version": 3
   },
   "file_extension": ".py",
   "mimetype": "text/x-python",
   "name": "python",
   "nbconvert_exporter": "python",
   "pygments_lexer": "ipython3",
   "version": "3.13.5"
  }
 },
 "nbformat": 4,
 "nbformat_minor": 5
}
